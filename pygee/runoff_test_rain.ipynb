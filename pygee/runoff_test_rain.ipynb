{
 "cells": [
  {
   "cell_type": "code",
   "execution_count": 8,
   "metadata": {},
   "outputs": [],
   "source": [
    "import ee\n",
    "import geemap\n",
    "import folium\n",
    "\n",
    "# Initialize the Earth Engine object, using the authentication credentials.\n",
    "ee.Initialize()\n"
   ]
  },
  {
   "cell_type": "code",
   "execution_count": 5,
   "metadata": {},
   "outputs": [],
   "source": [
    "basemaps = {\n",
    "    'Google Maps': folium.TileLayer(\n",
    "        tiles = 'https://mt1.google.com/vt/lyrs=m&x={x}&y={y}&z={z}',\n",
    "        attr = 'Google',\n",
    "        name = 'Google Maps',\n",
    "        overlay = True,\n",
    "        control = True\n",
    "    ),\n",
    "    'Google Satellite': folium.TileLayer(\n",
    "        tiles = 'https://mt1.google.com/vt/lyrs=s&x={x}&y={y}&z={z}',\n",
    "        attr = 'Google',\n",
    "        name = 'Google Satellite',\n",
    "        overlay = True,\n",
    "        control = True\n",
    "    ),\n",
    "    'Google Terrain': folium.TileLayer(\n",
    "        tiles = 'https://mt1.google.com/vt/lyrs=p&x={x}&y={y}&z={z}',\n",
    "        attr = 'Google',\n",
    "        name = 'Google Terrain',\n",
    "        overlay = True,\n",
    "        control = True\n",
    "    ),\n",
    "    'Google Satellite Hybrid': folium.TileLayer(\n",
    "        tiles = 'https://mt1.google.com/vt/lyrs=y&x={x}&y={y}&z={z}',\n",
    "        attr = 'Google',\n",
    "        name = 'Google Satellite',\n",
    "        overlay = True,\n",
    "        control = True\n",
    "    ),\n",
    "    'Esri Satellite': folium.TileLayer(\n",
    "        tiles = 'https://server.arcgisonline.com/ArcGIS/rest/services/World_Imagery/MapServer/tile/{z}/{y}/{x}',\n",
    "        attr = 'Esri',\n",
    "        name = 'Esri Satellite',\n",
    "        overlay = True,\n",
    "        control = True\n",
    "    )\n",
    "}\n",
    "\n",
    "def addLayer(self, ee_object, vis_params, name):\n",
    "    try:    \n",
    "        # display ee.Image()\n",
    "        if isinstance(ee_object, ee.image.Image):    \n",
    "            map_id_dict = ee.Image(ee_object).getMapId(vis_params)\n",
    "            folium.raster_layers.TileLayer(\n",
    "            tiles = map_id_dict['tile_fetcher'].url_format,\n",
    "            attr = 'Google Earth Engine',\n",
    "            name = name,\n",
    "            overlay = True,\n",
    "            control = True\n",
    "            ).add_to(self)\n",
    "        # display ee.ImageCollection()\n",
    "        elif isinstance(ee_object, ee.imagecollection.ImageCollection):    \n",
    "            ee_object_new = ee_object.mosaic()\n",
    "            map_id_dict = ee.Image(ee_object_new).getMapId(vis_params)\n",
    "            folium.raster_layers.TileLayer(\n",
    "            tiles = map_id_dict['tile_fetcher'].url_format,\n",
    "            attr = 'Google Earth Engine',\n",
    "            name = name,\n",
    "            overlay = True,\n",
    "            control = True\n",
    "            ).add_to(self)\n",
    "        # display ee.Geometry()\n",
    "        elif isinstance(ee_object, ee.geometry.Geometry):    \n",
    "            folium.GeoJson(\n",
    "            data = ee_object.getInfo(),\n",
    "            name = name,\n",
    "            overlay = True,\n",
    "            control = True\n",
    "        ).add_to(self)\n",
    "        # display ee.FeatureCollection()\n",
    "        elif isinstance(ee_object, ee.featurecollection.FeatureCollection):  \n",
    "            ee_object_new = ee.Image().paint(ee_object, 0, 2)\n",
    "            map_id_dict = ee.Image(ee_object_new).getMapId(vis_params)\n",
    "            folium.raster_layers.TileLayer(\n",
    "            tiles = map_id_dict['tile_fetcher'].url_format,\n",
    "            attr = 'Google Earth Engine',\n",
    "            name = name,\n",
    "            overlay = True,\n",
    "            control = True\n",
    "        ).add_to(self)\n",
    "    \n",
    "    except:\n",
    "        print(\"Could not display {}\".format(name))\n",
    "\n",
    "folium.Map.addLayer = addLayer"
   ]
  },
  {
   "cell_type": "code",
   "execution_count": 4,
   "metadata": {},
   "outputs": [],
   "source": [
    "thailand = ee.FeatureCollection('USDOS/LSIB_SIMPLE/2017').filter(ee.Filter.eq('country_na', 'Thailand'))\n",
    "th = ee.FeatureCollection(\"FAO/GAUL/2015/level1\").filter(ee.Filter.eq('ADM0_NAME', 'Thailand'))"
   ]
  },
  {
   "cell_type": "code",
   "execution_count": 14,
   "metadata": {},
   "outputs": [],
   "source": [
    "date_start = '2019-01-01'\n",
    "date_end = '2019-12-31'\n",
    "\n",
    "chirps = (ee.ImageCollection('UCSB-CHG/CHIRPS/DAILY')\n",
    "              .filterDate(date_start, date_end)\n",
    "              .select('precipitation')\n",
    "              .sum())\n",
    "\n",
    "persiann = (ee.ImageCollection('NOAA/PERSIANN-CDR')\n",
    "                 .filterDate(date_start, date_end)\n",
    "                 .select('precipitation')\n",
    "                 .sum())\n",
    "\n",
    "mswep = (ee.ImageCollection('JAXA/GPM_L3/GSMaP/v6/operational')\n",
    "              .filterDate(date_start, date_end)\n",
    "              .select('hourlyPrecipRateGC')\n",
    "              .sum())\n"
   ]
  },
  {
   "cell_type": "code",
   "execution_count": 17,
   "metadata": {},
   "outputs": [
    {
     "data": {
      "application/vnd.jupyter.widget-view+json": {
       "model_id": "d83464770d224d809cadb22d4f0e1487",
       "version_major": 2,
       "version_minor": 0
      },
      "text/plain": [
       "Map(center=[15, 100], controls=(WidgetControl(options=['position', 'transparent_bg'], widget=HBox(children=(To…"
      ]
     },
     "metadata": {},
     "output_type": "display_data"
    }
   ],
   "source": [
    "Map = geemap.Map(center=[15, 100], zoom=6, add_google_map=False)\n",
    "\n",
    "Map.addLayer(chirps.clip(th), {'min': 0, 'max': 3000, 'palette': ['blue', 'green', 'yellow', 'red']}, 'CHIRPS')\n",
    "Map.addLayer(persiann.clip(th), {'min': 0, 'max': 3000, 'palette': ['blue', 'green', 'yellow', 'red']}, 'persiann')\n",
    "Map.addLayer(mswep.clip(th), {'min': 0, 'max': 3000, 'palette': ['blue', 'green', 'yellow', 'red']}, 'mswep')\n",
    "\n",
    "Map.addLayerControl()\n",
    "display(Map)"
   ]
  },
  {
   "cell_type": "code",
   "execution_count": 18,
   "metadata": {},
   "outputs": [],
   "source": [
    "chirps_clip = chirps.clip(th);\n",
    "rain_av = 'rain_av'\n",
    "def getData(feature):\n",
    "    geometry = feature.geometry();\n",
    "    mean = chirps_clip.reduceRegion({\n",
    "        'reducer': ee.Reducer.mean(),\n",
    "        'geometry': geometry,\n",
    "        'scale': 100\n",
    "    }).get('precipitation');\n",
    "\n",
    "    properties = feature.toDictionary();\n",
    "    adm1_name = properties.get('ADM1_NAME');\n",
    "  \n",
    "    fillColor = ee.Algorithms.If(ee.Number(mean).lt(1000), 'red', ee.Algorithms.If(ee.Number(mean).lt(1500), 'green', 'blue'))\n",
    "    opt = {'color': fillColor, 'pro_name': adm1_name, rain_av: mean}\n",
    "    fc = ee.Feature(geometry, opt);\n",
    "    new_fc = fc.set('style',{\n",
    "        'fillColor': fillColor,\n",
    "        'width': 0.2\n",
    "    })\n",
    "     \n",
    "    return new_fc;\n"
   ]
  },
  {
   "cell_type": "code",
   "execution_count": null,
   "metadata": {},
   "outputs": [],
   "source": []
  }
 ],
 "metadata": {
  "kernelspec": {
   "display_name": "base",
   "language": "python",
   "name": "python3"
  },
  "language_info": {
   "codemirror_mode": {
    "name": "ipython",
    "version": 3
   },
   "file_extension": ".py",
   "mimetype": "text/x-python",
   "name": "python",
   "nbconvert_exporter": "python",
   "pygments_lexer": "ipython3",
   "version": "3.9.13"
  },
  "orig_nbformat": 4
 },
 "nbformat": 4,
 "nbformat_minor": 2
}
