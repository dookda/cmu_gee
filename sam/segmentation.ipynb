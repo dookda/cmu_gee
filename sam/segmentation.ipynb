{
 "cells": [
  {
   "cell_type": "code",
   "execution_count": 10,
   "metadata": {},
   "outputs": [],
   "source": [
    "import os\n",
    "import leafmap\n",
    "from samgeo import SamGeo, tms_to_geotiff, get_basemaps"
   ]
  },
  {
   "cell_type": "code",
   "execution_count": 2,
   "metadata": {},
   "outputs": [
    {
     "data": {
      "application/vnd.jupyter.widget-view+json": {
       "model_id": "ac7f291bb7414d5cb7a67c961c0f6998",
       "version_major": 2,
       "version_minor": 0
      },
      "text/plain": [
       "Map(center=[29.67684, -95.369222], controls=(ZoomControl(options=['position', 'zoom_in_text', 'zoom_in_title',…"
      ]
     },
     "execution_count": 2,
     "metadata": {},
     "output_type": "execute_result"
    }
   ],
   "source": [
    "m = leafmap.Map(center=[29.676840, -95.369222], zoom=19)\n",
    "m.add_basemap(\"SATELLITE\")\n",
    "m"
   ]
  },
  {
   "cell_type": "code",
   "execution_count": 3,
   "metadata": {},
   "outputs": [],
   "source": [
    "if m.user_roi_bounds() is not None:\n",
    "    bbox = m.user_roi_bounds()\n",
    "else:\n",
    "    bbox = [-95.3704, 29.6762, -95.368, 29.6775]"
   ]
  },
  {
   "cell_type": "code",
   "execution_count": 4,
   "metadata": {},
   "outputs": [],
   "source": [
    "image = \"satellite.tif\""
   ]
  },
  {
   "cell_type": "code",
   "execution_count": 6,
   "metadata": {},
   "outputs": [],
   "source": [
    "#get_basemaps().keys()"
   ]
  },
  {
   "cell_type": "code",
   "execution_count": 7,
   "metadata": {},
   "outputs": [
    {
     "name": "stdout",
     "output_type": "stream",
     "text": [
      "Downloaded image 01/40\n",
      "Downloaded image 02/40\n",
      "Downloaded image 03/40\n",
      "Downloaded image 04/40\n",
      "Downloaded image 05/40\n",
      "Downloaded image 06/40\n",
      "Downloaded image 07/40\n",
      "Downloaded image 08/40\n",
      "Downloaded image 09/40\n",
      "Downloaded image 10/40\n",
      "Downloaded image 11/40\n",
      "Downloaded image 12/40\n",
      "Downloaded image 13/40\n",
      "Downloaded image 14/40\n",
      "Downloaded image 15/40\n",
      "Downloaded image 16/40\n",
      "Downloaded image 17/40\n",
      "Downloaded image 18/40\n",
      "Downloaded image 19/40\n",
      "Downloaded image 20/40\n",
      "Downloaded image 21/40\n",
      "Downloaded image 22/40\n",
      "Downloaded image 23/40\n",
      "Downloaded image 24/40\n",
      "Downloaded image 25/40\n",
      "Downloaded image 26/40\n",
      "Downloaded image 27/40\n",
      "Downloaded image 28/40\n",
      "Downloaded image 29/40\n",
      "Downloaded image 30/40\n",
      "Downloaded image 31/40\n",
      "Downloaded image 32/40\n",
      "Downloaded image 33/40\n",
      "Downloaded image 34/40\n",
      "Downloaded image 35/40\n",
      "Downloaded image 36/40\n",
      "Downloaded image 37/40\n",
      "Downloaded image 38/40\n",
      "Downloaded image 39/40\n",
      "Downloaded image 40/40\n",
      "Saving GeoTIFF. Please wait...\n",
      "Image saved to satellite.tif\n"
     ]
    }
   ],
   "source": [
    "tms_to_geotiff(output=image, bbox=bbox, zoom=20, source=\"Satellite\", overwrite=True)"
   ]
  },
  {
   "cell_type": "code",
   "execution_count": 8,
   "metadata": {},
   "outputs": [
    {
     "data": {
      "application/vnd.jupyter.widget-view+json": {
       "model_id": "ac7f291bb7414d5cb7a67c961c0f6998",
       "version_major": 2,
       "version_minor": 0
      },
      "text/plain": [
       "Map(bottom=55514104.0, center=[29.67683954687463, -95.36922320723534], controls=(ZoomControl(options=['positio…"
      ]
     },
     "execution_count": 8,
     "metadata": {},
     "output_type": "execute_result"
    }
   ],
   "source": [
    "m.layers[-1].visible = False  # turn off the basemap\n",
    "m.add_raster(image, layer_name=\"Image\")\n",
    "m"
   ]
  },
  {
   "cell_type": "code",
   "execution_count": 11,
   "metadata": {},
   "outputs": [
    {
     "name": "stdout",
     "output_type": "stream",
     "text": [
      "Checkpoint /Users/sakdahomhuan/.cache/torch/hub/checkpoints/sam_vit_h_4b8939.pth does not exist.\n"
     ]
    },
    {
     "name": "stderr",
     "output_type": "stream",
     "text": [
      "Downloading...\n",
      "From: https://dl.fbaipublicfiles.com/segment_anything/sam_vit_h_4b8939.pth\n",
      "To: /Users/sakdahomhuan/.cache/torch/hub/checkpoints/sam_vit_h_4b8939.pth\n",
      "100%|██████████| 2.56G/2.56G [00:42<00:00, 59.8MB/s]\n"
     ]
    }
   ],
   "source": [
    "sam = SamGeo(\n",
    "    model_type=\"vit_h\",\n",
    "    checkpoint=\"sam_vit_h_4b8939.pth\",\n",
    "    sam_kwargs=None,\n",
    ")"
   ]
  },
  {
   "cell_type": "code",
   "execution_count": 12,
   "metadata": {},
   "outputs": [
    {
     "name": "stderr",
     "output_type": "stream",
     "text": [
      "100%|██████████| 12/12 [59:14<00:00, 296.20s/it]\n"
     ]
    }
   ],
   "source": [
    "mask = \"segment.tif\"\n",
    "sam.generate(\n",
    "    image, mask, batch=True, foreground=True, erosion_kernel=(3, 3), mask_multiplier=255\n",
    ")"
   ]
  },
  {
   "cell_type": "code",
   "execution_count": 13,
   "metadata": {},
   "outputs": [],
   "source": [
    "vector = \"segment.gpkg\"\n",
    "sam.tiff_to_gpkg(mask, vector, simplify_tolerance=None)"
   ]
  },
  {
   "cell_type": "code",
   "execution_count": 14,
   "metadata": {},
   "outputs": [],
   "source": [
    "shapefile = \"segment.shp\"\n",
    "sam.tiff_to_vector(mask, shapefile)"
   ]
  },
  {
   "cell_type": "code",
   "execution_count": 15,
   "metadata": {},
   "outputs": [
    {
     "data": {
      "application/vnd.jupyter.widget-view+json": {
       "model_id": "ac7f291bb7414d5cb7a67c961c0f6998",
       "version_major": 2,
       "version_minor": 0
      },
      "text/plain": [
       "Map(bottom=55514113.0, center=[29.676818573377954, -95.36922320723534], controls=(ZoomControl(options=['positi…"
      ]
     },
     "execution_count": 15,
     "metadata": {},
     "output_type": "execute_result"
    }
   ],
   "source": [
    "style = {\n",
    "    \"color\": \"#3388ff\",\n",
    "    \"weight\": 2,\n",
    "    \"fillColor\": \"#7c4185\",\n",
    "    \"fillOpacity\": 0.5,\n",
    "}\n",
    "m.add_vector(vector, layer_name=\"Vector\", style=style)\n",
    "m"
   ]
  }
 ],
 "metadata": {
  "kernelspec": {
   "display_name": "tf",
   "language": "python",
   "name": "python3"
  },
  "language_info": {
   "codemirror_mode": {
    "name": "ipython",
    "version": 3
   },
   "file_extension": ".py",
   "mimetype": "text/x-python",
   "name": "python",
   "nbconvert_exporter": "python",
   "pygments_lexer": "ipython3",
   "version": "3.11.3"
  },
  "orig_nbformat": 4
 },
 "nbformat": 4,
 "nbformat_minor": 2
}
